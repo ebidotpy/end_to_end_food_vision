{
 "cells": [
  {
   "cell_type": "code",
   "execution_count": 1,
   "metadata": {},
   "outputs": [
    {
     "data": {
      "text/plain": [
       "'/home/ebi/machinelearning/end_to_end_ml_projects/end_to_end_food_vision/research'"
      ]
     },
     "execution_count": 1,
     "metadata": {},
     "output_type": "execute_result"
    }
   ],
   "source": [
    "%pwd"
   ]
  },
  {
   "cell_type": "code",
   "execution_count": 2,
   "metadata": {},
   "outputs": [
    {
     "name": "stdout",
     "output_type": "stream",
     "text": [
      "/home/ebi/machinelearning/end_to_end_ml_projects/end_to_end_food_vision\n"
     ]
    }
   ],
   "source": [
    "%cd ../"
   ]
  },
  {
   "cell_type": "code",
   "execution_count": 3,
   "metadata": {},
   "outputs": [],
   "source": [
    "from dataclasses import dataclass\n",
    "from pathlib import Path\n",
    "\n",
    "@dataclass(frozen=True)\n",
    "class DataLoaderConfig:\n",
    "    root_dir: Path\n",
    "    train_dir: Path\n",
    "    test_dir: Path\n",
    "    image_shape: tuple\n",
    "    batch_size: int\n",
    "    class_mode: str\n",
    "\n",
    "@dataclass(frozen=True)\n",
    "class EvaluationConfig:\n",
    "    model_path: Path\n",
    "    score_path: Path"
   ]
  },
  {
   "cell_type": "code",
   "execution_count": 4,
   "metadata": {},
   "outputs": [
    {
     "name": "stderr",
     "output_type": "stream",
     "text": [
      "2023-10-10 15:47:00.411313: I tensorflow/tsl/cuda/cudart_stub.cc:28] Could not find cuda drivers on your machine, GPU will not be used.\n",
      "2023-10-10 15:47:00.634049: E tensorflow/compiler/xla/stream_executor/cuda/cuda_dnn.cc:9342] Unable to register cuDNN factory: Attempting to register factory for plugin cuDNN when one has already been registered\n",
      "2023-10-10 15:47:00.634102: E tensorflow/compiler/xla/stream_executor/cuda/cuda_fft.cc:609] Unable to register cuFFT factory: Attempting to register factory for plugin cuFFT when one has already been registered\n",
      "2023-10-10 15:47:00.634149: E tensorflow/compiler/xla/stream_executor/cuda/cuda_blas.cc:1518] Unable to register cuBLAS factory: Attempting to register factory for plugin cuBLAS when one has already been registered\n",
      "2023-10-10 15:47:00.674347: I tensorflow/tsl/cuda/cudart_stub.cc:28] Could not find cuda drivers on your machine, GPU will not be used.\n",
      "2023-10-10 15:47:00.674975: I tensorflow/core/platform/cpu_feature_guard.cc:182] This TensorFlow binary is optimized to use available CPU instructions in performance-critical operations.\n",
      "To enable the following instructions: AVX2 FMA, in other operations, rebuild TensorFlow with the appropriate compiler flags.\n",
      "2023-10-10 15:47:01.869017: W tensorflow/compiler/tf2tensorrt/utils/py_utils.cc:38] TF-TRT Warning: Could not find TensorRT\n"
     ]
    }
   ],
   "source": [
    "from cnnClassifier.constants import *\n",
    "from cnnClassifier.utils.common import read_yaml, create_directories\n",
    "\n",
    "class ConfigurationManager:\n",
    "    def __init__(self,\n",
    "        config_filepath = CONFIG_FILE_PATH, \n",
    "        params_filepath = PARAMS_FILE_PATH):\n",
    "\n",
    "        self.config = read_yaml(config_filepath)\n",
    "        self.params = read_yaml(params_filepath)\n",
    "\n",
    "    def get_data_loader_config(self) -> DataLoaderConfig:\n",
    "        config = self.config.data_loader\n",
    "        params = self.params\n",
    "\n",
    "        data_loader_config = DataLoaderConfig(\n",
    "            root_dir=config.root_dir,\n",
    "            train_dir=config.train_dir, \n",
    "            test_dir=config.test_dir, \n",
    "            image_shape=params.IMAGE_SHAPE, \n",
    "            batch_size=params.BATCH_SIZE, \n",
    "            class_mode=params.CLASS_MODE\n",
    "        )\n",
    "\n",
    "        return data_loader_config\n",
    "    \n",
    "    def get_evaluation_config(self):\n",
    "        config = self.config.evaluation\n",
    "\n",
    "        evaluation = EvaluationConfig(\n",
    "            model_path=config.model_path, \n",
    "            score_path=config.score_path\n",
    "        )\n",
    "        return evaluation"
   ]
  },
  {
   "cell_type": "code",
   "execution_count": 5,
   "metadata": {},
   "outputs": [],
   "source": [
    "\n",
    "from tensorflow.keras.preprocessing.image import ImageDataGenerator\n",
    "\n",
    "class DataLoader:\n",
    "    def __init__(self, config: DataLoaderConfig):\n",
    "        self.config = config\n",
    "    \n",
    "    def load_data(self):\n",
    "        self.train_dir = self.config.train_dir\n",
    "        self.test_dir = self.config.test_dir\n",
    "\n",
    "    def prepare_data(self):\n",
    "        train_datagen = ImageDataGenerator(rescale=1/255.)\n",
    "        test_datagen = ImageDataGenerator(rescale=1/255.)\n",
    "\n",
    "        train_data_10_percent = train_datagen.flow_from_directory(self.train_dir, \n",
    "                                                                  target_size=self.config.image_shape, \n",
    "                                                                  batch_size=self.config.batch_size, \n",
    "                                                                  class_mode=self.config.class_mode)\n",
    "        test_data = train_datagen.flow_from_directory(self.test_dir, \n",
    "                                                      target_size=self.config.image_shape, \n",
    "                                                      batch_size=self.config.batch_size, \n",
    "                                                      class_mode=self.config.class_mode)\n",
    "        return train_data_10_percent, test_data\n"
   ]
  },
  {
   "cell_type": "code",
   "execution_count": 6,
   "metadata": {},
   "outputs": [],
   "source": [
    "import tensorflow as tf\n",
    "from cnnClassifier.utils.common import save_json\n",
    "\n",
    "class Evaluation:\n",
    "    def __init__(self, config: EvaluationConfig):\n",
    "        self.config = config\n",
    "    \n",
    "    def get_base_model(self):\n",
    "        self.model = tf.keras.models.load_model(\n",
    "            self.config.model_path\n",
    "        )\n",
    "    \n",
    "    def evaluate_model(self, test_data):\n",
    "        self.score = self.model.evaluate(test_data)\n",
    "\n",
    "    def save_score(self):\n",
    "        scores = {\"loss\": self.score[0], \"accuracy\": self.score[1]}\n",
    "        save_json(path=Path(self.config.score_path), data=scores)"
   ]
  },
  {
   "cell_type": "code",
   "execution_count": 8,
   "metadata": {},
   "outputs": [
    {
     "name": "stdout",
     "output_type": "stream",
     "text": [
      "[2023-10-10 16:02:43,760: INFO: common: yaml file: config/config.yaml loaded successfully]\n",
      "[2023-10-10 16:02:43,765: INFO: common: yaml file: params.yaml loaded successfully]\n",
      "Found 750 images belonging to 10 classes.\n",
      "Found 2500 images belonging to 10 classes.\n"
     ]
    },
    {
     "name": "stderr",
     "output_type": "stream",
     "text": [
      "2023-10-10 16:02:48.971482: W tensorflow/tsl/framework/cpu_allocator_impl.cc:83] Allocation of 77070336 exceeds 10% of free system memory.\n",
      "2023-10-10 16:02:49.030716: W tensorflow/tsl/framework/cpu_allocator_impl.cc:83] Allocation of 77070336 exceeds 10% of free system memory.\n",
      "2023-10-10 16:02:49.117125: W tensorflow/tsl/framework/cpu_allocator_impl.cc:83] Allocation of 78452736 exceeds 10% of free system memory.\n",
      "2023-10-10 16:02:49.309145: W tensorflow/tsl/framework/cpu_allocator_impl.cc:83] Allocation of 32080896 exceeds 10% of free system memory.\n"
     ]
    },
    {
     "name": "stdout",
     "output_type": "stream",
     "text": [
      "  1/157 [..............................] - ETA: 6:08 - loss: 2.3477 - accuracy: 0.0000e+00"
     ]
    },
    {
     "name": "stderr",
     "output_type": "stream",
     "text": [
      "2023-10-10 16:02:49.654808: W tensorflow/tsl/framework/cpu_allocator_impl.cc:83] Allocation of 77070336 exceeds 10% of free system memory.\n"
     ]
    },
    {
     "name": "stdout",
     "output_type": "stream",
     "text": [
      "157/157 [==============================] - 84s 523ms/step - loss: 2.3285 - accuracy: 0.1000\n",
      "[2023-10-10 16:04:11,130: INFO: common: json file saved at: scores.json]\n"
     ]
    }
   ],
   "source": [
    "try:\n",
    "    config = ConfigurationManager()\n",
    "\n",
    "\n",
    "    data_loader_config = config.get_data_loader_config()\n",
    "    data_loader = DataLoader(config=data_loader_config)\n",
    "    data_loader.load_data()\n",
    "    _, test = data_loader.prepare_data()\n",
    "\n",
    "\n",
    "    evaluation_config = config.get_evaluation_config()\n",
    "    evaluation = Evaluation(config=evaluation_config)\n",
    "    evaluation.get_base_model()\n",
    "    evaluation.evaluate_model(test)\n",
    "    evaluation.save_score()\n",
    "except Exception as e:\n",
    "    raise e"
   ]
  },
  {
   "cell_type": "code",
   "execution_count": null,
   "metadata": {},
   "outputs": [],
   "source": []
  }
 ],
 "metadata": {
  "kernelspec": {
   "display_name": "tf_full",
   "language": "python",
   "name": "python3"
  },
  "language_info": {
   "codemirror_mode": {
    "name": "ipython",
    "version": 3
   },
   "file_extension": ".py",
   "mimetype": "text/x-python",
   "name": "python",
   "nbconvert_exporter": "python",
   "pygments_lexer": "ipython3",
   "version": "3.9.0"
  }
 },
 "nbformat": 4,
 "nbformat_minor": 2
}
