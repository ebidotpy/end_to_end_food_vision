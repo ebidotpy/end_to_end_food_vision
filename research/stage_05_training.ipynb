{
 "cells": [
  {
   "cell_type": "code",
   "execution_count": 13,
   "metadata": {},
   "outputs": [
    {
     "data": {
      "text/plain": [
       "'/home/ebi/machinelearning/end_to_end_ml_projects/end_to_end_food_vision'"
      ]
     },
     "execution_count": 13,
     "metadata": {},
     "output_type": "execute_result"
    }
   ],
   "source": [
    "%pwd"
   ]
  },
  {
   "cell_type": "code",
   "execution_count": 2,
   "metadata": {},
   "outputs": [
    {
     "name": "stdout",
     "output_type": "stream",
     "text": [
      "/home/ebi/machinelearning/end_to_end_ml_projects/end_to_end_food_vision\n"
     ]
    }
   ],
   "source": [
    "%cd ../"
   ]
  },
  {
   "cell_type": "code",
   "execution_count": 50,
   "metadata": {},
   "outputs": [],
   "source": [
    "from dataclasses import dataclass\n",
    "from pathlib import Path\n",
    "\n",
    "@dataclass(frozen=True)\n",
    "class TrainingConfig:\n",
    "    root_dir: Path\n",
    "    trained_model_path: Path\n",
    "    updated_base_model_path: Path\n",
    "    train_dir: Path\n",
    "    test_dir: Path\n",
    "    epochs: int\n",
    "\n",
    "\n",
    "@dataclass(frozen=True)\n",
    "class PrepareCallbacksConfig:\n",
    "    root_dir: Path\n",
    "    tensorboard_root_log_dir: Path\n",
    "    checkpoint_model_filepath: Path\n",
    "\n",
    "@dataclass(frozen=True)\n",
    "class DataLoaderConfig:\n",
    "    root_dir: Path\n",
    "    train_dir: Path\n",
    "    test_dir: Path\n",
    "    image_shape: list\n",
    "    batch_size: int\n",
    "    class_mode: str"
   ]
  },
  {
   "cell_type": "code",
   "execution_count": 51,
   "metadata": {},
   "outputs": [],
   "source": [
    "from cnnClassifier.constants import *\n",
    "from cnnClassifier.utils.common import read_yaml, create_directories\n",
    "\n",
    "class ConfigurationManager:\n",
    "    def __init__(self,\n",
    "        config_filepath = CONFIG_FILE_PATH, \n",
    "        params_filepath = PARAMS_FILE_PATH):\n",
    "\n",
    "        self.config = read_yaml(config_filepath)\n",
    "        self.params = read_yaml(params_filepath)\n",
    "\n",
    "        # create_directories([self.config.artifacts_root])\n",
    "    \n",
    "    def get_prepare_callbacks_config(self) -> PrepareCallbacksConfig:\n",
    "        config = self.config.prepare_callbacks\n",
    "\n",
    "        prepare_callbacks_config = PrepareCallbacksConfig(\n",
    "            root_dir=config.root_dir, \n",
    "            tensorboard_root_log_dir=config.tensorboard_root_log_dir, \n",
    "            checkpoint_model_filepath=config.checkpoint_model_filepath\n",
    "        )\n",
    "\n",
    "        return prepare_callbacks_config\n",
    "    \n",
    "    def get_training_config(self):\n",
    "        training = self.config.training\n",
    "        params = self.params\n",
    "        prepare_base_model = self.config.prepare_base_model\n",
    "        data_loader = self.config.data_loader\n",
    "\n",
    "\n",
    "        create_directories([training.root_dir])\n",
    "\n",
    "        training_config = TrainingConfig(\n",
    "            root_dir=training.root_dir, \n",
    "            trained_model_path=training.trained_model_path, \n",
    "            updated_base_model_path=prepare_base_model.updated_base_model_path, \n",
    "            train_dir=data_loader.train_dir, \n",
    "            test_dir=data_loader.test_dir, \n",
    "            epochs=params.EPOCHS\n",
    "        )\n",
    "\n",
    "        return training_config\n",
    "    def get_data_loader_config(self) -> DataLoaderConfig:\n",
    "        config = self.config.data_loader\n",
    "        params = self.params\n",
    "\n",
    "        data_loader_config = DataLoaderConfig(\n",
    "            root_dir=config.root_dir,\n",
    "            train_dir=config.train_dir, \n",
    "            test_dir=config.test_dir, \n",
    "            image_shape=params.IMAGE_SHAPE, \n",
    "            batch_size=params.BATCH_SIZE, \n",
    "            class_mode=params.CLASS_MODE\n",
    "        )\n",
    "\n",
    "        return data_loader_config"
   ]
  },
  {
   "cell_type": "code",
   "execution_count": 52,
   "metadata": {},
   "outputs": [],
   "source": [
    "\n",
    "import time\n",
    "import os\n",
    "import tensorflow as tf\n",
    "\n",
    "class PrepareCallbacks:\n",
    "    def __init__(self, config: PrepareCallbacksConfig):\n",
    "        self.config = config\n",
    "    \n",
    "    @property\n",
    "    def _create_tb_callbacks(self):\n",
    "        timestamp = time.strftime(\"%Y-%m-%d-%H-%M-%S\")\n",
    "        tb_running_log_dir = os.path.join(\n",
    "            self.config.tensorboard_root_log_dir, \n",
    "            f\"tb_log_at_{timestamp}\"\n",
    "        )\n",
    "        return tf.keras.callbacks.TensorBoard(log_dir=tb_running_log_dir)\n",
    "    @property\n",
    "    def _create_ckpt_callbacks(self):\n",
    "        return tf.keras.callbacks.ModelCheckpoint(\n",
    "            filepath=self.config.checkpoint_model_filepath, \n",
    "            save_best_only=True\n",
    "        )\n",
    "    def get_tb_ckpt_callbacks(self):\n",
    "        return[\n",
    "            self._create_tb_callbacks, \n",
    "            self._create_ckpt_callbacks\n",
    "        ]"
   ]
  },
  {
   "cell_type": "code",
   "execution_count": 53,
   "metadata": {},
   "outputs": [],
   "source": [
    "from tensorflow.keras.preprocessing.image import ImageDataGenerator\n",
    "\n",
    "class DataLoader:\n",
    "    def __init__(self, config: DataLoaderConfig):\n",
    "        self.config = config\n",
    "    \n",
    "    def load_data(self):\n",
    "        self.train_dir = self.config.train_dir\n",
    "        self.test_dir = self.config.test_dir\n",
    "\n",
    "    def prepare_data(self):\n",
    "        train_datagen = ImageDataGenerator(rescale=1/255.)\n",
    "        test_datagen = ImageDataGenerator(rescale=1/255.)\n",
    "\n",
    "        train_data_10_percent = train_datagen.flow_from_directory(self.train_dir, \n",
    "                                                                  target_size=self.config.image_shape, \n",
    "                                                                  batch_size=self.config.batch_size, \n",
    "                                                                  class_mode=self.config.class_mode)\n",
    "        test_data = train_datagen.flow_from_directory(self.test_dir, \n",
    "                                                      target_size=self.config.image_shape, \n",
    "                                                      batch_size=self.config.batch_size, \n",
    "                                                      class_mode=self.config.class_mode)\n",
    "        return train_data_10_percent, test_data\n"
   ]
  },
  {
   "cell_type": "code",
   "execution_count": 54,
   "metadata": {},
   "outputs": [],
   "source": [
    "\n",
    "class Training:\n",
    "    def __init__(self, config: TrainingConfig):\n",
    "        self.config = config\n",
    "    \n",
    "    def get_base_model(self):\n",
    "        self.model = tf.keras.models.load_model(\n",
    "            self.config.updated_base_model_path\n",
    "        )\n",
    "    @staticmethod\n",
    "    def save_model(path: Path, model: tf.keras.Model):\n",
    "        model.save(path)\n",
    "\n",
    "    \n",
    "    \n",
    "    def training(self, callbacks_list: list, train_data, test_data):\n",
    "        self.history = self.model.fit(\n",
    "            train_data,\n",
    "            epochs=self.config.epochs, \n",
    "            steps_per_epoch=len(train_data), \n",
    "            validation_data=test_data, \n",
    "            validation_steps=int(0.15 * len(test_data)), \n",
    "            callbacks=callbacks_list\n",
    "        )\n",
    "\n",
    "        self.save_model(\n",
    "            path=self.config.trained_model_path, \n",
    "            model=self.model\n",
    "        )"
   ]
  },
  {
   "cell_type": "code",
   "execution_count": 55,
   "metadata": {},
   "outputs": [
    {
     "name": "stdout",
     "output_type": "stream",
     "text": [
      "[2023-10-10 14:56:58,181: INFO: common: yaml file: config/config.yaml loaded successfully]\n",
      "[2023-10-10 14:56:58,185: INFO: common: yaml file: params.yaml loaded successfully]\n",
      "[2023-10-10 14:56:58,186: INFO: 2011624294: >>>>>>>> stage Load Data started <<<<<<<<<<<<]\n",
      "Found 750 images belonging to 10 classes.\n",
      "Found 2500 images belonging to 10 classes.\n",
      "[2023-10-10 14:56:58,366: INFO: 2011624294: >>>>>>>> stage Load Data completed <<<<<<<<<<\n",
      "\n",
      "x============x]\n",
      "[2023-10-10 14:56:58,367: INFO: 2011624294: >>>>>>>> stage Prepare callbacks started <<<<<<<<<<<<]\n",
      "[2023-10-10 14:56:58,368: INFO: 2011624294: >>>>>>>> stage Prepare callbacks completed <<<<<<<<<<\n",
      "\n",
      "x============x]\n",
      "[2023-10-10 14:56:58,369: INFO: 2011624294: >>>>>>>> stage Training started <<<<<<<<<<<<]\n",
      "[2023-10-10 14:56:58,371: INFO: common: created directory at: artifacts/training]\n",
      "47/47 [==============================] - ETA: 0s - loss: 2.3490 - accuracy: 0.0947"
     ]
    },
    {
     "name": "stderr",
     "output_type": "stream",
     "text": [
      "/home/ebi/miniconda3/envs/tf_full/lib/python3.9/site-packages/keras/src/engine/training.py:3079: UserWarning: You are saving your model as an HDF5 file via `model.save()`. This file format is considered legacy. We recommend using instead the native Keras format, e.g. `model.save('my_model.keras')`.\n",
      "  saving_api.save_model(\n"
     ]
    },
    {
     "name": "stdout",
     "output_type": "stream",
     "text": [
      "47/47 [==============================] - 42s 820ms/step - loss: 2.3490 - accuracy: 0.0947 - val_loss: 2.3182 - val_accuracy: 0.1141\n",
      "[2023-10-10 14:57:44,155: INFO: 2011624294: >>>>>>>> stage Training completed <<<<<<<<<<\n",
      "\n",
      "x============x]\n"
     ]
    }
   ],
   "source": [
    "from cnnClassifier import logger\n",
    "\n",
    "\n",
    "\n",
    "try:\n",
    "    config = ConfigurationManager()\n",
    "\n",
    "    STAGE_NAME = \"Load Data\"\n",
    "    logger.info(f\">>>>>>>> stage {STAGE_NAME} started <<<<<<<<<<<<\")\n",
    "    data_loader_config = config.get_data_loader_config()\n",
    "    data_loader = DataLoader(config=data_loader_config)\n",
    "    data_loader.load_data()\n",
    "    train, test = data_loader.prepare_data()\n",
    "    logger.info(f\">>>>>>>> stage {STAGE_NAME} completed <<<<<<<<<<\\n\\nx============x\")\n",
    "\n",
    "    STAGE_NAME = \"Prepare callbacks\"\n",
    "    logger.info(f\">>>>>>>> stage {STAGE_NAME} started <<<<<<<<<<<<\")\n",
    "    prepare_callbacks_config = config.get_prepare_callbacks_config()\n",
    "    prepare_callbacks = PrepareCallbacks(config=prepare_callbacks_config)\n",
    "    callback_list = prepare_callbacks.get_tb_ckpt_callbacks()\n",
    "    logger.info(f\">>>>>>>> stage {STAGE_NAME} completed <<<<<<<<<<\\n\\nx============x\")\n",
    "\n",
    "\n",
    "    STAGE_NAME = \"Training\"\n",
    "    logger.info(f\">>>>>>>> stage {STAGE_NAME} started <<<<<<<<<<<<\")\n",
    "    training_config = config.get_training_config()\n",
    "    training = Training(config=training_config)\n",
    "    training.get_base_model()\n",
    "    training.training(\n",
    "        callbacks_list=callback_list, \n",
    "        train_data= train, \n",
    "        test_data=test\n",
    "    )\n",
    "    logger.info(f\">>>>>>>> stage {STAGE_NAME} completed <<<<<<<<<<\\n\\nx============x\")\n",
    "\n",
    "\n",
    "\n",
    "except Exception as e:\n",
    "    raise e"
   ]
  },
  {
   "cell_type": "code",
   "execution_count": null,
   "metadata": {},
   "outputs": [],
   "source": []
  }
 ],
 "metadata": {
  "kernelspec": {
   "display_name": "tf_full",
   "language": "python",
   "name": "python3"
  },
  "language_info": {
   "codemirror_mode": {
    "name": "ipython",
    "version": 3
   },
   "file_extension": ".py",
   "mimetype": "text/x-python",
   "name": "python",
   "nbconvert_exporter": "python",
   "pygments_lexer": "ipython3",
   "version": "3.9.0"
  }
 },
 "nbformat": 4,
 "nbformat_minor": 2
}
