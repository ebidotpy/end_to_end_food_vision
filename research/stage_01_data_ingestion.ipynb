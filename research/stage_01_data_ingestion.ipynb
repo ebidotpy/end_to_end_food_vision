{
 "cells": [
  {
   "cell_type": "code",
   "execution_count": 9,
   "metadata": {},
   "outputs": [
    {
     "data": {
      "text/plain": [
       "'/home/ebi/machinelearning/end_to_end_ml_projects/end_to_end_food_vision/research'"
      ]
     },
     "execution_count": 9,
     "metadata": {},
     "output_type": "execute_result"
    }
   ],
   "source": [
    "%pwd"
   ]
  },
  {
   "cell_type": "code",
   "execution_count": 10,
   "metadata": {},
   "outputs": [
    {
     "name": "stdout",
     "output_type": "stream",
     "text": [
      "/home/ebi/machinelearning/end_to_end_ml_projects/end_to_end_food_vision\n"
     ]
    }
   ],
   "source": [
    "%cd ../"
   ]
  },
  {
   "cell_type": "code",
   "execution_count": 39,
   "metadata": {},
   "outputs": [],
   "source": [
    "from dataclasses import dataclass\n",
    "from pathlib import Path\n",
    "\n",
    "@dataclass(frozen=True)\n",
    "class DataIngestionConfig:\n",
    "    root_dir: Path\n",
    "    dataset_url: str\n",
    "    local_data_file: Path\n",
    "    unzip_dir: Path"
   ]
  },
  {
   "cell_type": "code",
   "execution_count": 40,
   "metadata": {},
   "outputs": [],
   "source": [
    "from cnnClassifier.constants import *\n",
    "import os\n",
    "from pathlib import Path\n",
    "from cnnClassifier.utils.common import read_yaml, create_directories\n",
    "\n",
    "\n",
    "class ConfigurationManager:\n",
    "    def __init__(\n",
    "            self, \n",
    "            config_filepath = CONFIG_FILE_PATH, \n",
    "            params_filepath = PARAMS_FILE_PATH):\n",
    "        \n",
    "        self.config = read_yaml(config_filepath)\n",
    "        self.params = read_yaml(params_filepath)\n",
    "\n",
    "        create_directories([self.config.artifacts_root])\n",
    "\n",
    "    def get_data_ingestion_config(self) -> DataIngestionConfig:\n",
    "        config = self.config.data_ingestion\n",
    "\n",
    "        create_directories([config.root_dir])\n",
    "\n",
    "        data_ingestion_config = DataIngestionConfig(\n",
    "            root_dir=config.root_dir, \n",
    "            dataset_url=config.dataset_url,\n",
    "            local_data_file=config.local_data_file, \n",
    "            unzip_dir=config.unzip_dir\n",
    "            \n",
    "        )\n",
    "        return data_ingestion_config"
   ]
  },
  {
   "cell_type": "code",
   "execution_count": 41,
   "metadata": {},
   "outputs": [],
   "source": [
    "import urllib.request as request\n",
    "from cnnClassifier import logger\n",
    "from cnnClassifier.utils.common import get_size\n",
    "from zipfile import ZipFile\n",
    "import wget\n",
    "\n",
    "class DataIngestion:\n",
    "    def __init__(self, config: DataIngestionConfig):\n",
    "        self.config = config\n",
    "\n",
    "    def download_dataset(self):\n",
    "        if not os.path.exists(self.config.local_data_file):\n",
    "            # filename = wget.download(self.config.dataste_url, out=self.config.local_data_file)\n",
    "            filename, headers = request.urlretrieve(\n",
    "                url = self.config.dataset_url,\n",
    "                filename = self.config.local_data_file\n",
    "            )    \n",
    "            logger.info(f\"{filename} download!\")\n",
    "        \n",
    "        else:\n",
    "            logger.info(f\"File already exists of size: {get_size(Path(self.config.local_data_file))}\")\n",
    "        \n",
    "    \n",
    "    def extract_zip_file(self):\n",
    "        unzip_path = self.config.unzip_dir\n",
    "        with ZipFile(self.config.local_data_file, \"r\") as zip_ref:\n",
    "            zip_ref.extractall(unzip_path)"
   ]
  },
  {
   "cell_type": "code",
   "execution_count": 43,
   "metadata": {},
   "outputs": [
    {
     "name": "stdout",
     "output_type": "stream",
     "text": [
      "[2023-10-09 12:36:43,486: INFO: 539176610: >>>>>>>> stage Data Ingestion stage started <<<<<<<<<<<<]\n",
      "[2023-10-09 12:36:43,490: INFO: common: yaml file: config/config.yaml loaded successfully]\n",
      "[2023-10-09 12:36:43,492: INFO: common: yaml file: params.yaml loaded successfully]\n",
      "[2023-10-09 12:36:43,493: INFO: common: created directory at: artifacts]\n",
      "[2023-10-09 12:36:43,495: INFO: common: created directory at: artifacts/data_ingestion]\n",
      "[2023-10-09 12:38:29,019: INFO: 4252441191: artifacts/data_ingestion/data.zip download!]\n",
      "[2023-10-09 12:38:30,407: INFO: 539176610: >>>>>> stage Data Ingestion stage completed <<<<<<<<<\n",
      "\n",
      "x===============x]\n"
     ]
    }
   ],
   "source": [
    "STAGE_NAME = \"Data Ingestion stage\"\n",
    "\n",
    "try:\n",
    "    logger.info(f\">>>>>>>> stage {STAGE_NAME} started <<<<<<<<<<<<\")\n",
    "    config = ConfigurationManager()\n",
    "    data_ingestion_config = config.get_data_ingestion_config()\n",
    "    data_ingestion = DataIngestion(config=data_ingestion_config)\n",
    "    data_ingestion.download_dataset()\n",
    "    data_ingestion.extract_zip_file()\n",
    "    logger.info(f\">>>>>> stage {STAGE_NAME} completed <<<<<<<<<\\n\\nx===============x\")\n",
    "\n",
    "except Exception as e:\n",
    "    logger.exception(e)\n",
    "    raise e\n"
   ]
  },
  {
   "cell_type": "code",
   "execution_count": null,
   "metadata": {},
   "outputs": [],
   "source": []
  }
 ],
 "metadata": {
  "kernelspec": {
   "display_name": "Python 3",
   "language": "python",
   "name": "python3"
  },
  "language_info": {
   "codemirror_mode": {
    "name": "ipython",
    "version": 3
   },
   "file_extension": ".py",
   "mimetype": "text/x-python",
   "name": "python",
   "nbconvert_exporter": "python",
   "pygments_lexer": "ipython3",
   "version": "3.10.0"
  }
 },
 "nbformat": 4,
 "nbformat_minor": 2
}
