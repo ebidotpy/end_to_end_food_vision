{
 "cells": [
  {
   "cell_type": "code",
   "execution_count": 1,
   "metadata": {},
   "outputs": [
    {
     "data": {
      "text/plain": [
       "'/home/ebi/machinelearning/end_to_end_ml_projects/end_to_end_food_vision/research'"
      ]
     },
     "execution_count": 1,
     "metadata": {},
     "output_type": "execute_result"
    }
   ],
   "source": [
    "%pwd"
   ]
  },
  {
   "cell_type": "code",
   "execution_count": 2,
   "metadata": {},
   "outputs": [
    {
     "name": "stdout",
     "output_type": "stream",
     "text": [
      "/home/ebi/machinelearning/end_to_end_ml_projects/end_to_end_food_vision\n"
     ]
    }
   ],
   "source": [
    "%cd ../"
   ]
  },
  {
   "cell_type": "code",
   "execution_count": 11,
   "metadata": {},
   "outputs": [],
   "source": [
    "from dataclasses import dataclass\n",
    "from pathlib import Path\n",
    "\n",
    "@dataclass(frozen=True)\n",
    "class PrepareBaseModelConfig:\n",
    "    root_dir: Path\n",
    "    base_model_path: Path\n",
    "    updated_base_model_path: Path\n",
    "    include_top: bool\n",
    "    trainable: bool\n",
    "    input_shape: list\n",
    "    freeze_all: bool\n",
    "    freeze_till: int\n",
    "    learning_rate: float\n",
    "    classes: int"
   ]
  },
  {
   "cell_type": "code",
   "execution_count": 12,
   "metadata": {},
   "outputs": [],
   "source": [
    "from cnnClassifier.constants import *\n",
    "import os\n",
    "from pathlib import Path\n",
    "from cnnClassifier.utils.common import read_yaml, create_directories\n",
    "\n",
    "\n",
    "class ConfigurationManager:\n",
    "    def __init__(\n",
    "            self, \n",
    "            config_filepath = CONFIG_FILE_PATH, \n",
    "            params_filepath = PARAMS_FILE_PATH):\n",
    "        \n",
    "        self.config = read_yaml(config_filepath)\n",
    "        self.params = read_yaml(params_filepath)\n",
    "\n",
    "        create_directories([self.config.artifacts_root])\n",
    "    def get_prepare_base_model_config(self) -> PrepareBaseModelConfig:\n",
    "        config = self.config.prepare_base_model\n",
    "        params = self.params\n",
    "\n",
    "        prepare_base_model = PrepareBaseModelConfig(\n",
    "            root_dir=config.root_dir, \n",
    "            base_model_path=config.base_model_path, \n",
    "            updated_base_model_path=config.updated_base_model_path, \n",
    "            include_top=params.INCLUDE_TOP, \n",
    "            trainable=params.TRAINABLE, \n",
    "            input_shape=params.INPUT_SHAPE, \n",
    "            freeze_all=params.FREEZE_ALL, \n",
    "            freeze_till=params.FREEZE_TILL, \n",
    "            learning_rate=params.LEARNING_RATE, \n",
    "            classes=params.CLASSES\n",
    "        )\n",
    "\n",
    "        return prepare_base_model"
   ]
  },
  {
   "cell_type": "code",
   "execution_count": 13,
   "metadata": {},
   "outputs": [],
   "source": [
    "import tensorflow as tf\n",
    "from tensorflow.keras import layers\n",
    "\n",
    "class PrepareBaseModel:\n",
    "    def __init__(self, config: PrepareBaseModelConfig):\n",
    "        self.config = config\n",
    "    \n",
    "    @staticmethod\n",
    "    def save_model(path: Path, model: tf.keras.Model):\n",
    "        model.save(path)\n",
    "\n",
    "\n",
    "    def get_base_model(self):\n",
    "        self.model = tf.keras.applications.EfficientNetB0(include_top=self.config.include_top)\n",
    "\n",
    "        self.save_model(self.config.base_model_path, self.model)\n",
    "    @staticmethod\n",
    "    def _prepare_full_model(base_model, input_shape, freeze_all, freeze_till, classes, learning_rate):\n",
    "        if freeze_all:\n",
    "            base_model.trainable = False\n",
    "        elif (freeze_till is not None) and (freeze_till > 0):\n",
    "            for layer in base_model.layers[:-freeze_till]:\n",
    "                base_model.trainable = False\n",
    "        \n",
    "        inputs = layers.Input(shape=input_shape, name=\"input_layer\")\n",
    "        \n",
    "        x = base_model(inputs, training=False)\n",
    "        x = layers.GlobalAveragePooling2D(name=\"pooling_layer\")(x)\n",
    "        x = layers.Dense(classes)(x)\n",
    "\n",
    "        outputs = layers.Activation(\"softmax\", dtype=tf.float32, name=\"siftmax_float32\")(x)\n",
    "        full_model = tf.keras.Model(inputs, outputs)\n",
    "\n",
    "        full_model.compile(loss=\"sparse_categorical_crossentropy\", \n",
    "                           optimizer=tf.keras.optimizers.Adam(), \n",
    "                           metrics=[\"accuracy\"])\n",
    "        \n",
    "        full_model.summary()\n",
    "        return full_model\n",
    "        \n",
    "    def update_base_model(self):\n",
    "        self.full_model = self._prepare_full_model(\n",
    "            base_model=self.model, \n",
    "            input_shape=self.config.input_shape, \n",
    "            freeze_all=self.config.freeze_all, \n",
    "            freeze_till=self.config.freeze_till, \n",
    "            classes=self.config.classes, \n",
    "            learning_rate=self.config.learning_rate\n",
    "        )\n",
    "\n",
    "        self.save_model(self.config.updated_base_model_path, self.full_model)\n",
    "\n",
    "\n",
    "\n"
   ]
  },
  {
   "cell_type": "code",
   "execution_count": 14,
   "metadata": {},
   "outputs": [
    {
     "name": "stdout",
     "output_type": "stream",
     "text": [
      "[2023-10-10 09:30:04,356: INFO: 596458800: >>>>>>> stage Prepare Base Model started <<<<<<<<<<]\n",
      "[2023-10-10 09:30:04,363: INFO: common: yaml file: config/config.yaml loaded successfully]\n",
      "[2023-10-10 09:30:04,369: INFO: common: yaml file: params.yaml loaded successfully]\n",
      "[2023-10-10 09:30:04,371: INFO: common: created directory at: artifacts]\n",
      "[2023-10-10 09:30:06,928: WARNING: saving_utils: Compiled the loaded model, but the compiled metrics have yet to be built. `model.compile_metrics` will be empty until you train or evaluate the model.]\n"
     ]
    },
    {
     "name": "stderr",
     "output_type": "stream",
     "text": [
      "/home/ebi/miniconda3/envs/tf_full/lib/python3.9/site-packages/keras/src/engine/training.py:3079: UserWarning: You are saving your model as an HDF5 file via `model.save()`. This file format is considered legacy. We recommend using instead the native Keras format, e.g. `model.save('my_model.keras')`.\n",
      "  saving_api.save_model(\n"
     ]
    },
    {
     "name": "stdout",
     "output_type": "stream",
     "text": [
      "Model: \"model\"\n",
      "_________________________________________________________________\n",
      " Layer (type)                Output Shape              Param #   \n",
      "=================================================================\n",
      " input_layer (InputLayer)    [(None, 224, 224, 3)]     0         \n",
      "                                                                 \n",
      " efficientnetb0 (Functional  (None, None, None, 1280   4049571   \n",
      " )                           )                                   \n",
      "                                                                 \n",
      " pooling_layer (GlobalAvera  (None, 1280)              0         \n",
      " gePooling2D)                                                    \n",
      "                                                                 \n",
      " dense (Dense)               (None, 10)                12810     \n",
      "                                                                 \n",
      " siftmax_float32 (Activatio  (None, 10)                0         \n",
      " n)                                                              \n",
      "                                                                 \n",
      "=================================================================\n",
      "Total params: 4062381 (15.50 MB)\n",
      "Trainable params: 12810 (50.04 KB)\n",
      "Non-trainable params: 4049571 (15.45 MB)\n",
      "_________________________________________________________________\n",
      "[2023-10-10 09:30:08,493: INFO: 596458800: >>>>>>> stage Prepare Base Model completed <<<<<<<<\n",
      "\n",
      "x=============x]\n"
     ]
    }
   ],
   "source": [
    "from cnnClassifier import logger\n",
    "\n",
    "STAGE_NAME = \"Prepare Base Model\"\n",
    "\n",
    "try:\n",
    "    logger.info(f\">>>>>>> stage {STAGE_NAME} started <<<<<<<<<<\")\n",
    "    config = ConfigurationManager()\n",
    "    prepare_base_model_config = config.get_prepare_base_model_config()\n",
    "    prepare_base_model = PrepareBaseModel(prepare_base_model_config)\n",
    "    prepare_base_model.get_base_model()\n",
    "    prepare_base_model.update_base_model()\n",
    "    logger.info(f\">>>>>>> stage {STAGE_NAME} completed <<<<<<<<\\n\\nx=============x\")\n",
    "\n",
    "except Exception as e:\n",
    "    raise e\n"
   ]
  },
  {
   "cell_type": "code",
   "execution_count": null,
   "metadata": {},
   "outputs": [],
   "source": []
  }
 ],
 "metadata": {
  "kernelspec": {
   "display_name": "Python 3",
   "language": "python",
   "name": "python3"
  },
  "language_info": {
   "codemirror_mode": {
    "name": "ipython",
    "version": 3
   },
   "file_extension": ".py",
   "mimetype": "text/x-python",
   "name": "python",
   "nbconvert_exporter": "python",
   "pygments_lexer": "ipython3",
   "version": "3.9.0"
  }
 },
 "nbformat": 4,
 "nbformat_minor": 2
}
