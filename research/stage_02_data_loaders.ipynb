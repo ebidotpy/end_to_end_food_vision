{
 "cells": [
  {
   "cell_type": "code",
   "execution_count": 1,
   "metadata": {},
   "outputs": [
    {
     "data": {
      "text/plain": [
       "'/home/ebi/machinelearning/end_to_end_ml_projects/end_to_end_food_vision/research'"
      ]
     },
     "execution_count": 1,
     "metadata": {},
     "output_type": "execute_result"
    }
   ],
   "source": [
    "%pwd"
   ]
  },
  {
   "cell_type": "code",
   "execution_count": 2,
   "metadata": {},
   "outputs": [
    {
     "name": "stdout",
     "output_type": "stream",
     "text": [
      "/home/ebi/machinelearning/end_to_end_ml_projects/end_to_end_food_vision\n"
     ]
    }
   ],
   "source": [
    "%cd ../"
   ]
  },
  {
   "cell_type": "code",
   "execution_count": 5,
   "metadata": {},
   "outputs": [],
   "source": [
    "from dataclasses import dataclass\n",
    "from pathlib import Path\n",
    "\n",
    "@dataclass(frozen=True)\n",
    "class DataLoaderConfig:\n",
    "    root_dir: Path\n",
    "    train_dir: Path\n",
    "    test_dir: Path\n",
    "    image_shape: tuple\n",
    "    batch_size: int\n",
    "    class_mode: str"
   ]
  },
  {
   "cell_type": "code",
   "execution_count": 6,
   "metadata": {},
   "outputs": [],
   "source": [
    "from cnnClassifier.constants import *\n",
    "import os\n",
    "from pathlib import Path\n",
    "from cnnClassifier.utils.common import read_yaml, create_directories\n",
    "\n",
    "\n",
    "class ConfigurationManager:\n",
    "    def __init__(\n",
    "            self, \n",
    "            config_filepath = CONFIG_FILE_PATH, \n",
    "            params_filepath = PARAMS_FILE_PATH):\n",
    "        \n",
    "        self.config = read_yaml(config_filepath)\n",
    "        self.params = read_yaml(params_filepath)\n",
    "\n",
    "        create_directories([self.config.artifacts_root])\n",
    "    \n",
    "    def get_data_loader_config(self) -> DataLoaderConfig:\n",
    "        config = self.config.data_loader\n",
    "        params = self.params\n",
    "\n",
    "        data_loader_config = DataLoaderConfig(\n",
    "            root_dir=config.root_dir,\n",
    "            train_dir=config.train_dir, \n",
    "            test_dir=config.test_dir, \n",
    "            image_shape=params.IMAGE_SHAPE, \n",
    "            batch_size=params.BATCH_SIZE, \n",
    "            class_mode=params.CLASS_MODE\n",
    "        )\n",
    "\n",
    "        return data_loader_config"
   ]
  },
  {
   "cell_type": "code",
   "execution_count": 7,
   "metadata": {},
   "outputs": [],
   "source": [
    "from tensorflow.keras.preprocessing.image import ImageDataGenerator\n",
    "\n",
    "class DataLoader:\n",
    "    def __init__(self, config: DataLoaderConfig):\n",
    "        self.config = config\n",
    "    \n",
    "    def load_data(self):\n",
    "        self.train_dir = self.config.train_dir\n",
    "        self.test_dir = self.config.test_dir\n",
    "\n",
    "    def prepare_data(self):\n",
    "        train_datagen = ImageDataGenerator(rescale=1/255.)\n",
    "        test_datagen = ImageDataGenerator(rescale=1/255.)\n",
    "\n",
    "        train_data_10_percent = train_datagen.flow_from_directory(self.train_dir, \n",
    "                                                                  target_size=self.config.image_shape, \n",
    "                                                                  batch_size=self.config.batch_size, \n",
    "                                                                  class_mode=self.config.class_mode)\n",
    "        test_data = train_datagen.flow_from_directory(self.test_dir, \n",
    "                                                      target_size=self.config.image_shape, \n",
    "                                                      batch_size=self.config.batch_size, \n",
    "                                                      class_mode=self.config.class_mode)\n",
    "        return train_data_10_percent, test_data\n"
   ]
  },
  {
   "cell_type": "code",
   "execution_count": 8,
   "metadata": {},
   "outputs": [
    {
     "name": "stdout",
     "output_type": "stream",
     "text": [
      "[2023-10-09 15:07:28,081: INFO: 750901943: >>>>>>>> stage Load Data started <<<<<<<<<<<<]\n",
      "[2023-10-09 15:07:28,086: INFO: common: yaml file: config/config.yaml loaded successfully]\n",
      "[2023-10-09 15:07:28,097: INFO: common: yaml file: params.yaml loaded successfully]\n",
      "[2023-10-09 15:07:28,099: INFO: common: created directory at: artifacts]\n",
      "Found 750 images belonging to 10 classes.\n",
      "Found 2500 images belonging to 10 classes.\n",
      "[2023-10-09 15:07:28,313: INFO: 750901943: >>>>>>>> stage Load Data completed <<<<<<<<<<\n",
      "\n",
      "x============x]\n"
     ]
    }
   ],
   "source": [
    "from cnnClassifier import logger\n",
    "\n",
    "STAGE_NAME = \"Load Data\"\n",
    "\n",
    "try:\n",
    "    logger.info(f\">>>>>>>> stage {STAGE_NAME} started <<<<<<<<<<<<\")\n",
    "    config = ConfigurationManager()\n",
    "    data_loader_config = config.get_data_loader_config()\n",
    "    data_loader = DataLoader(config=data_loader_config)\n",
    "    data_loader.load_data()\n",
    "    train, test = data_loader.prepare_data()\n",
    "    logger.info(f\">>>>>>>> stage {STAGE_NAME} completed <<<<<<<<<<\\n\\nx============x\")\n",
    "\n",
    "except Exception as e:\n",
    "    raise e"
   ]
  },
  {
   "cell_type": "code",
   "execution_count": null,
   "metadata": {},
   "outputs": [],
   "source": []
  }
 ],
 "metadata": {
  "kernelspec": {
   "display_name": "Python 3",
   "language": "python",
   "name": "python3"
  },
  "language_info": {
   "codemirror_mode": {
    "name": "ipython",
    "version": 3
   },
   "file_extension": ".py",
   "mimetype": "text/x-python",
   "name": "python",
   "nbconvert_exporter": "python",
   "pygments_lexer": "ipython3",
   "version": "3.10.0"
  }
 },
 "nbformat": 4,
 "nbformat_minor": 2
}
